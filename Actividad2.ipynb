{
  "nbformat": 4,
  "nbformat_minor": 0,
  "metadata": {
    "colab": {
      "name": "Actividad2.ipynb",
      "provenance": [],
      "collapsed_sections": [],
      "toc_visible": true,
      "include_colab_link": true
    },
    "kernelspec": {
      "name": "python3",
      "display_name": "Python 3"
    },
    "language_info": {
      "name": "python"
    }
  },
  "cells": [
    {
      "cell_type": "markdown",
      "metadata": {
        "id": "view-in-github",
        "colab_type": "text"
      },
      "source": [
        "<a href=\"https://colab.research.google.com/github/YohanaRodriguezJ/Bootcamp-clase-David/blob/main/Actividad2.ipynb\" target=\"_parent\"><img src=\"https://colab.research.google.com/assets/colab-badge.svg\" alt=\"Open In Colab\"/></a>"
      ]
    },
    {
      "cell_type": "markdown",
      "metadata": {
        "id": "I4j9xr8Rx5gD"
      },
      "source": [
        " Listas\n",
        "\n",
        "\n",
        "List1 = [10, 20, [300, 400, [5000, 6000], 500], 30, 40]\n",
        "\n",
        "obtener lista output por el metodo 'append'\n",
        "\n",
        "[10, 20, [300, 400, [5000, 6000, 7000], 500], 30, 40]"
      ]
    },
    {
      "cell_type": "code",
      "metadata": {
        "id": "FflaApaHy2bt",
        "colab": {
          "base_uri": "https://localhost:8080/"
        },
        "outputId": "62a2acdf-1566-4dc9-ae76-8c9497688b39"
      },
      "source": [
        "lista=[10, 20, [300, 400, [5000, 6000], 500], 30, 40]\n",
        "lista[2][2].append(7000)\n",
        "print(lista)"
      ],
      "execution_count": 10,
      "outputs": [
        {
          "output_type": "stream",
          "name": "stdout",
          "text": [
            "[10, 20, [300, 400, [5000, 6000, 7000], 500], 30, 40]\n"
          ]
        }
      ]
    },
    {
      "cell_type": "markdown",
      "metadata": {
        "id": "8i5P4IhWzEUM"
      },
      "source": [
        "\n",
        "Sets\n",
        "\n",
        "se tienen los conjuntos\n",
        "\n",
        "s1 = {10, 20, 30, 40, 50}\n",
        "\n",
        "s2 = {30, 40, 50, 60, 70}\n",
        "\n",
        "1 Obtener el siguiente output con alguno de los metódos vistos para sets\n",
        "\n",
        "{40, 50, 30}\n",
        "\n",
        "2 O btener  el siguiente output con alguno de los metódos vistos para sets\n",
        "\n",
        "{70, 40, 10, 50, 20, 60, 30}\n",
        "\n",
        "3 Extraer todos los elementos de s2 que no estan en s1\n"
      ]
    },
    {
      "cell_type": "code",
      "metadata": {
        "colab": {
          "base_uri": "https://localhost:8080/"
        },
        "id": "ogK6QYw3zfck",
        "outputId": "745e731d-783c-40ca-9616-516268030b7e"
      },
      "source": [
        "print ('interseccion')\n",
        "s1 = {10, 20, 30, 40, 50}\n",
        "s2 = {30, 40, 50, 60, 70}\n",
        "print(s1.intersection(s2))\n",
        "\n",
        "print ('union')\n",
        "\n",
        "print(s1.union(s2))\n",
        "\n",
        "print ('diferencia')\n",
        "\n",
        "s2.symmetric_difference(s1)"
      ],
      "execution_count": 14,
      "outputs": [
        {
          "output_type": "stream",
          "name": "stdout",
          "text": [
            "interseccion\n",
            "{40, 50, 30}\n",
            "union\n",
            "{70, 40, 10, 50, 20, 60, 30}\n",
            "diferencia\n"
          ]
        },
        {
          "output_type": "execute_result",
          "data": {
            "text/plain": [
              "{10, 20, 60, 70}"
            ]
          },
          "metadata": {},
          "execution_count": 14
        }
      ]
    },
    {
      "cell_type": "markdown",
      "metadata": {
        "id": "F42A5Htq0q8A"
      },
      "source": [
        "Tupla\n",
        "tupla=(10, 20, 30, 40, 50)\n",
        "\n",
        "Responder:\n",
        "\n",
        "1 Ordenar la tupla de mayor a menor\n",
        "\n",
        "2 Extraer los valores de la tupla en las siguientes variables: a,b,c,d,e\n",
        "\n",
        "3 Ahora suponga que tiene la siguiente tupla: \n",
        "tupla_d = (11, [22, 33], 44, 55)\n",
        "Recordando el concepto de inmutabilidad de las tuplas, sería posible poder modificar el valor 22 por 222. se puede? Justificar"
      ]
    },
    {
      "cell_type": "code",
      "metadata": {
        "colab": {
          "base_uri": "https://localhost:8080/"
        },
        "id": "1IR02EWH1NaY",
        "outputId": "2f7c6e06-cd18-45c5-a549-bc151e07f25e"
      },
      "source": [
        "t =(10,20,30,40,50)\n",
        "print('Ordenar tupla')\n",
        "print(t [::-1])\n",
        "print('obtener valores a,b,c,d,e')\n",
        "a,b,c,d,e=t\n",
        "print(a,b,c,d,e)\n",
        "print('remplacede t el valor 22 por 222')\n",
        "t_d = (11, [22, 33], 44, 55)\n",
        "t_d[1][0] = 222\n",
        "print(t_d)\n"
      ],
      "execution_count": 16,
      "outputs": [
        {
          "output_type": "stream",
          "name": "stdout",
          "text": [
            "Ordenar tupla\n",
            "(50, 40, 30, 20, 10)\n",
            "obtener valores a,b,c,d,e\n",
            "10 20 30 40 50\n",
            "remplacede t el valor 22 por 222\n",
            "(11, [222, 33], 44, 55)\n"
          ]
        }
      ]
    },
    {
      "cell_type": "markdown",
      "metadata": {
        "id": "mqJ1cJVX2X4p"
      },
      "source": [
        "Diccionarios\n",
        "\n",
        "1 Supongan que tienen el siguiente diccionario similar a lo que se obtiene de una API ([texto del enlace](https://www.freecodecamp.org/news/what-is-an-api-in-english-please-b880a3214a82/)) \n",
        "\n",
        "dict_david = {\n",
        "    \"clase\": {\n",
        "        \"estudiante\": {\n",
        "            \"nombre\": \"David\",\n",
        "            \"notas\": {\n",
        "                \"fisica\": 4.9,\n",
        "                \"matematicas\": 4.8\n",
        "            }\n",
        "        }\n",
        "    }\n",
        "}\n",
        "\n",
        "Como se puede obtener el valor respectivo para la llave primaria matematicas\n",
        "\n",
        "2 Con base en el siguiente diccionario, renombrar la llave primaria ciudad por ubicacion\n",
        "\n",
        "  dic_prueba = {\n",
        "  \"nombre\": \"Juan\",\n",
        "  \"edad\":25,\n",
        "  \"salario\": 8000000,\n",
        "  \"ciudad\": \"Santiago\"\n",
        "}\n",
        "\n",
        "\n",
        "3 Obtener la llave primaria del valor minimo para el siguiente diccionario\n",
        "\n",
        "dicc = {\n",
        "  'Bayesiana': 4.5,\n",
        "  'Series Tiempo': 4.6,\n",
        "  'Calculo Actuarial': 4.2\n",
        "}\n",
        "\n",
        "\n",
        "4 Con base en el siguiente diccionario\n",
        "dict_a = {\n",
        "    'e1': {'nombre': 'David', 'salario': 12000000},\n",
        "    'e2': {'nombre': 'Juan', 'salario': 7590000},\n",
        "    'e3': {'nombre': 'Amir', 'salario': 6787000}\n",
        "}\n",
        "\n",
        "Reemplazar el valor de 7590000 de Juan por 8000000."
      ]
    },
    {
      "cell_type": "code",
      "metadata": {
        "colab": {
          "base_uri": "https://localhost:8080/"
        },
        "id": "VOibyLCE3QZQ",
        "outputId": "e69e7306-1a94-430f-9fe2-da54a740ddb3"
      },
      "source": [
        "\n",
        "print('Valor llave primaria matematicas')\n",
        "dict_david = {\"clase\": {\"estudiante\": {\"nombre\": \"David\",\"notas\": {\"fisica\": 4.9,\"matematicas\": 4.8}}}}\n",
        "print(dict_david['clase']['estudiante']['notas']['matematicas'])\n",
        "\n",
        "print('renombrar llave primaria or ubicacion')\n",
        "dic_prueba = {\"nombre\": \"Juan\",\"edad\":25,\"salario\": 8000000,\"ciudad\": \"Santiago\"}\n",
        "dic_prueba['ubicacion'] = dic_prueba.pop('ciudad')\n",
        "print(dic_prueba)\n",
        "\n",
        "print('valor minimo de el siguiente diccionario')\n",
        "dicc = {'Bayesiana': 4.5,'Series Tiempo': 4.6,'Calculo Actuarial': 4.2}\n",
        "print(min(dicc, key=dicc.get))\n",
        "\n",
        "print('Remplazar de el diccionario 759000 de juan por 8000000')\n",
        "dict_a = {\n",
        "    'e1': {'nombre': 'David', 'salario': 12000000},\n",
        "    'e2': {'nombre': 'Juan', 'salario': 7590000},\n",
        "    'e3': {'nombre': 'Amir', 'salario': 6787000}}\n",
        "dict_a['e3']['salario'] = 8000000\n",
        "print(dict_a)\n"
      ],
      "execution_count": 20,
      "outputs": [
        {
          "output_type": "stream",
          "name": "stdout",
          "text": [
            "Valor llave primaria matematicas\n",
            "4.8\n",
            "renombrar llave primaria or ubicacion\n",
            "{'nombre': 'Juan', 'edad': 25, 'salario': 8000000, 'ubicacion': 'Santiago'}\n",
            "valor minimo de el siguiente diccionario\n",
            "Calculo Actuarial\n",
            "Remplazar de el diccionario 759000 de juan por 8000000\n",
            "{'e1': {'nombre': 'David', 'salario': 12000000}, 'e2': {'nombre': 'Juan', 'salario': 7590000}, 'e3': {'nombre': 'Amir', 'salario': 8000000}}\n"
          ]
        }
      ]
    }
  ]
}